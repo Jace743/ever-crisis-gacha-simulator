{
 "cells": [
  {
   "cell_type": "code",
   "execution_count": 1,
   "id": "e3955aca-3793-44d6-986d-7cb3c51fb012",
   "metadata": {},
   "outputs": [],
   "source": [
    "import numpy as np"
   ]
  },
  {
   "cell_type": "markdown",
   "id": "b80cbd7a-2c7c-42ff-b148-d848901be7ef",
   "metadata": {},
   "source": [
    "# LEFT OFF\n",
    "\n",
    "You just decided that `PullSession` should be managing stamp cards, not `TenDraw`. You want to extract TenDraw rule determination into `PullSession`, so that `TenDraw` doesn't need to take in `StampCard` and can just be fed the rules for the ten draws."
   ]
  },
  {
   "cell_type": "code",
   "execution_count": 2,
   "id": "5d22f2f9-db93-45bc-b7b2-4314c48baa12",
   "metadata": {},
   "outputs": [],
   "source": [
    "@staticmethod\n",
    "def perform_single_draw(seed=None):\n",
    "    \"\"\"\n",
    "    Performs a single draw and stores probability result (i.e., spend 300 crystals and save result to determine weapon later).\n",
    "    \"\"\"\n",
    "\n",
    "    return np.random.default_rng(seed).random()"
   ]
  },
  {
   "cell_type": "markdown",
   "id": "b6fbd98c-84f4-46f6-9d15-5df4931ba64d",
   "metadata": {},
   "source": [
    "### Future Validations\n",
    "\n",
    "- Stamp cards\n",
    "    - Enum of position_dict rules\n",
    "        1. guaranteed_feature_five_star_draw\n",
    "        2. guaranteed_five_star_draw\n",
    "        3. guaranteed_four_star_draw\n",
    "        4. guaranteed_not_desired_draw\n",
    "    - Ensure `position` is always between 1 and 12."
   ]
  },
  {
   "cell_type": "code",
   "execution_count": 95,
   "id": "bae8bde2-6e5b-440a-a41f-16f9f3c0908f",
   "metadata": {},
   "outputs": [],
   "source": [
    "test_list_of_position_dicts = [\n",
    "    {\n",
    "        'position': 4,\n",
    "         'rule': 'guaranteed_feature_five_star_draw'\n",
    "    },\n",
    "    {\n",
    "        'position': 7,\n",
    "         'rule': 'guaranteed_feature_five_star_draw'\n",
    "    },\n",
    "    {\n",
    "        'position': 10,\n",
    "         'rule': 'guaranteed_feature_five_star_draw'\n",
    "    },\n",
    "    {\n",
    "        'position': 12,\n",
    "         'rule': 'guaranteed_not_desired_draw'\n",
    "    },\n",
    "    \n",
    "]"
   ]
  },
  {
   "cell_type": "code",
   "execution_count": 96,
   "id": "d582d258-d24a-4a3e-83a6-dc71fa9459b6",
   "metadata": {},
   "outputs": [
    {
     "data": {
      "text/plain": [
       "[{'position': 4, 'rule': 'guaranteed_feature_five_star_draw'},\n",
       " {'position': 7, 'rule': 'guaranteed_feature_five_star_draw'},\n",
       " {'position': 10, 'rule': 'guaranteed_feature_five_star_draw'},\n",
       " {'position': 12, 'rule': 'guaranteed_not_desired_draw'}]"
      ]
     },
     "execution_count": 96,
     "metadata": {},
     "output_type": "execute_result"
    }
   ],
   "source": [
    "test_list_of_position_dicts"
   ]
  },
  {
   "cell_type": "code",
   "execution_count": null,
   "id": "00aebbe7-fd51-4900-9c30-be8db4c8c01b",
   "metadata": {},
   "outputs": [],
   "source": [
    "class CrystalPullSession:\n",
    "    \"\"\"\n",
    "    Class representing a pull session. \n",
    "    \"\"\"\n",
    "    def __init__(self, stamp_cards_list, num_featured_weapons, non_featured_five_star_percent_rate):\n",
    "        self.stamp_cards_list = stamp_cards_config_list\n",
    "        self.num_featured_weapons = num_featured_weapons\n",
    "        self.num_weapons_in_banner = round(1.5 / non_featured_five_star_pereent_rate) + 5 + self.num_featured_weapons\n",
    "\n",
    "    def perform_ten_draw(self):\n",
    "        \"\"\"\n",
    "        Instantiates a TenDraw class object, uses its operations to perform a ten_draw, and stores the results\n",
    "        \"\"\""
   ]
  },
  {
   "cell_type": "code",
   "execution_count": 97,
   "id": "f125286d-ebdf-4127-9a45-d1a8b7554756",
   "metadata": {},
   "outputs": [
    {
     "data": {
      "text/plain": [
       "110"
      ]
     },
     "execution_count": 97,
     "metadata": {},
     "output_type": "execute_result"
    }
   ],
   "source": [
    "round(1.5 / 0.01363)"
   ]
  },
  {
   "cell_type": "code",
   "execution_count": null,
   "id": "ed295b85-36ab-4ab4-9a68-e8b8d70db197",
   "metadata": {},
   "outputs": [],
   "source": [
    "# TenDraw actually needs to take in all of the pull sessions' stamp cards, so it's able to progress to then \n",
    "\n",
    "class TenDraw:\n",
    "    \"\"\"\n",
    "    Class representing a set of 10 draws within a crystal pull session\n",
    "    \"\"\"\n",
    "\n",
    "    def __init__(self, current_stamp_card):\n",
    "        self.current_stamp_card = current_stamp_card\n",
    "        self.special_rules_this_ten_pull = []\n",
    "\n",
    "    def determine_and_increment_stamps(self, seed=None):\n",
    "        \"\"\"\n",
    "        Generates a number of stamps for the beginning of a 10-draw and determines new stamp value\n",
    "        \"\"\"\n",
    "\n",
    "        stamp_randint = np.random.default_rng(seed).integers(low=1, high=10000, endpoint=True)\n",
    "    \n",
    "        if 1 <= stamp_randint <= 4500:\n",
    "            self.new_stamp_value = self.current_stamp_card.current_stamp_value + 1\n",
    "        elif 4501 <= stamp_randint <= 8000:\n",
    "            self.new_stamp_value = self.current_stamp_card.current_stamp_value + 2\n",
    "        elif 8001 <= stamp_randint <= 9592:\n",
    "            self.new_stamp_value = self.current_stamp_card.current_stamp_value + 3\n",
    "        elif 9593 <= stamp_randint <= 9794:\n",
    "            self.new_stamp_value = self.current_stamp_card.current_stamp_value + 4\n",
    "        elif 9795 <= stamp_randint <= 9944:\n",
    "            self.new_stamp_value = self.current_stamp_card.current_stamp_value + 5\n",
    "        elif 9945 <= stamp_randint <= 9999:\n",
    "            self.new_stamp_value = self.current_stamp_card.current_stamp_value + 6\n",
    "        else: \n",
    "            self.new_stamp_value = self.current_stamp_card.current_stamp_value + 12\n",
    "\n",
    "    def determine_rules_for_draw(self):\n",
    "        \"\"\"\n",
    "        Determines any special rules for the current draw, based on the current and new stamp card values. \n",
    "        \"\"\"\n",
    "\n",
    "        for position_dict, position_int in enumerate(self.stamp_card_positions_list):\n",
    "            if self.current_stamp_value < position_int <= new_stamp_value:\n",
    "                rules_for_ten_draw.append(self.list_of_position_dicts[position_dict]['rule'])\n",
    "        "
   ]
  },
  {
   "cell_type": "code",
   "execution_count": 94,
   "id": "7b8273f8-0e80-428f-9209-388585b98bb1",
   "metadata": {},
   "outputs": [],
   "source": [
    "class StampCard:\n",
    "    \"\"\"\n",
    "    Class representing a single stamp card during a pull session.\n",
    "    \"\"\"\n",
    "    def __init__(self, list_of_position_dicts):\n",
    "        self.list_of_position_dicts = list_of_position_dicts\n",
    "        self.stamp_card_positions_list = [position_dict['position'] for position_dict in self.list_of_position_dicts]\n",
    "        self.current_stamp_value = 0\n",
    "\n",
    "    \n",
    "\n",
    "\n",
    "\n",
    "        "
   ]
  },
  {
   "cell_type": "code",
   "execution_count": 9,
   "id": "81e94dee-f01f-462f-bc12-10b50f38ffb1",
   "metadata": {},
   "outputs": [],
   "source": []
  },
  {
   "cell_type": "code",
   "execution_count": 93,
   "id": "06a6d850-60ca-4dfa-b515-6bb2cc12c4f7",
   "metadata": {},
   "outputs": [
    {
     "data": {
      "text/plain": [
       "1"
      ]
     },
     "execution_count": 93,
     "metadata": {},
     "output_type": "execute_result"
    }
   ],
   "source": [
    "determine_number_of_stamps()"
   ]
  },
  {
   "cell_type": "code",
   "execution_count": null,
   "id": "f9779984-daad-46c8-9971-6aacac74f7b0",
   "metadata": {},
   "outputs": [],
   "source": []
  }
 ],
 "metadata": {
  "kernelspec": {
   "display_name": "Python 3 (ipykernel)",
   "language": "python",
   "name": "python3"
  },
  "language_info": {
   "codemirror_mode": {
    "name": "ipython",
    "version": 3
   },
   "file_extension": ".py",
   "mimetype": "text/x-python",
   "name": "python",
   "nbconvert_exporter": "python",
   "pygments_lexer": "ipython3",
   "version": "3.11.4"
  }
 },
 "nbformat": 4,
 "nbformat_minor": 5
}
