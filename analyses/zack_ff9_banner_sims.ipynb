{
 "cells": [
  {
   "cell_type": "code",
   "execution_count": 1,
   "id": "5182ba4f-d188-48de-8bc0-2f2455f5ea52",
   "metadata": {},
   "outputs": [],
   "source": [
    "from ever_crisis_gacha_simulator.classes.gacha_sim import GachaSim\n",
    "from ever_crisis_gacha_simulator.banner_info_and_stamp_cards import ZACK_FF9_CROSSOVER_BANNER\n",
    "import numpy as np\n",
    "import pandas as pd\n",
    "import seaborn as sns\n",
    "import matplotlib.pyplot as plt\n",
    "import mplcyberpunk\n",
    "\n",
    "plt.style.use(\"cyberpunk\")\n",
    "plt.rcParams.update({\"figure.dpi\": 600})"
   ]
  },
  {
   "cell_type": "code",
   "execution_count": 2,
   "id": "0f998eab-676c-4bc8-8577-1cc783d40c31",
   "metadata": {},
   "outputs": [
    {
     "data": {
      "text/html": [
       "<style>.container { width:100% !important; }</style>"
      ],
      "text/plain": [
       "<IPython.core.display.HTML object>"
      ]
     },
     "metadata": {},
     "output_type": "display_data"
    },
    {
     "data": {
      "text/html": [
       "<style>.output_result { max-width:100% !important; }</style>"
      ],
      "text/plain": [
       "<IPython.core.display.HTML object>"
      ]
     },
     "metadata": {},
     "output_type": "display_data"
    }
   ],
   "source": [
    "from IPython.display import display, HTML\n",
    "display(HTML(\"<style>.container { width:100% !important; }</style>\"))\n",
    "display(HTML(\"<style>.output_result { max-width:100% !important; }</style>\"))"
   ]
  },
  {
   "cell_type": "code",
   "execution_count": 7,
   "id": "5d268204-3ba1-419c-8c46-395001b3780c",
   "metadata": {},
   "outputs": [],
   "source": [
    "def ob_analysis_wrapper(criterion_overboost_value):\n",
    "    \"\"\"\n",
    "    A wrapper around GachaSim instantiation for our the FF9 crossover banner, targeting the Beatrix Sword.\n",
    "    \"\"\"\n",
    "\n",
    "    gs = GachaSim(\n",
    "        session_criterion=\"overboost\",\n",
    "        criterion_value=criterion_overboost_value,\n",
    "        target_weapon_type=\"featured\",\n",
    "        banner_info=ZACK_FF9_CROSSOVER_BANNER,\n",
    "        seed_value=1337,\n",
    "        starting_weapon_parts=0,\n",
    "        num_simulations=500_000,\n",
    "    )\n",
    "\n",
    "    return gs\n",
    "\n",
    "# A dictionary for only one input is a bit overkill, so I'll be skipping that step and just inputting\n",
    "# the overboost value. "
   ]
  },
  {
   "cell_type": "code",
   "execution_count": null,
   "id": "f587e077-e648-4495-84d8-49bca3b713c5",
   "metadata": {},
   "outputs": [],
   "source": [
    "def viz_wrapper(\n",
    "    gs, \n",
    "    column,\n",
    "    values=None,\n",
    "    probs=None,\n",
    "    ):\n",
    "\n",
    "    if probs and values:\n",
    "        print(\"ERROR: Values passed for both `probs` and `values`. Only pass values for one.\")\n",
    "        return\n",
    "    \n",
    "    ORB_HEX_CODES = [\"#0093FF\", \"#CB00FF\", \"#FFC800\"]\n",
    "    MAX_X_TICKS = 15\n",
    "    FONT_SIZE = 12\n",
    "    \n",
    "    if probs:\n",
    "        colors = sns.blend_palette(colors=ORB_HEX_CODES, n_colors=len(probs))\n",
    "        colors.reverse()\n",
    "    elif values:\n",
    "        colors = sns.blend_palette(colors=ORB_HEX_CODES, n_colors=len(values))\n",
    "        colors.reverse()\n",
    "    else:\n",
    "        colors = None\n",
    "    \n",
    "    plot = gs.visualize_results(outcome=column)\n",
    "\n",
    "    x_max = plot.ax.get_xlim()[1]\n",
    "    \n",
    "    if column == \"num_crystals_spent\":\n",
    "        crystal_count_by = 3_000\n",
    "\n",
    "        # Ensure adequate tick mark spacing for x-axis\n",
    "        while x_max / crystal_count_by > MAX_X_TICKS:\n",
    "            crystal_count_by += 3_000\n",
    "        \n",
    "        plot.ax.set_xticks(np.arange(0, x_max+1, crystal_count_by))\n",
    "        plot.ax.set_xticklabels([f\"{label:,.0f}\" for label in plot.ax.get_xticks()])\n",
    "        # plot.set_xticklabels(rotation=60)\n",
    "    elif column == \"targeted_weapon_parts\":\n",
    "        wpn_parts_count_by = 200\n",
    "\n",
    "        while x_max / wpn_parts_count_by > MAX_X_TICKS:\n",
    "            wpn_parts_count_by += 200\n",
    "        \n",
    "        plot.ax.set_xticks(np.arange(0, x_max+1, wpn_parts_count_by))\n",
    "        plot.ax.set_xticklabels([f\"{label:,.0f}\" for label in plot.ax.get_xticks()])\n",
    "        \n",
    "    plot.set_xticklabels(rotation=45, fontsize=FONT_SIZE, fontweight='semibold')\n",
    "    plot.ax.set_yticks(np.arange(0, 101, 10))\n",
    "    plot.set_yticklabels(fontsize=FONT_SIZE, fontweight='semibold') \n",
    "\n",
    "    if probs:\n",
    "        values = [int(np.percentile(gs.sim_results[column], prob)) for prob in probs]\n",
    "    \n",
    "    # Horizontal lines with labels for values of interest\n",
    "    if values or probs:\n",
    "\n",
    "        if column == \"num_crystals_spent\":\n",
    "            legend_label = \"Crystals\"\n",
    "        elif column == \"targeted_weapon_parts\":\n",
    "            legend_label = \"Overboost\"\n",
    "        else:\n",
    "            legend_label == \"Stamps\"\n",
    "\n",
    "        WEAPON_PARTS_TO_OVERBOOST = 200\n",
    "\n",
    "        # if column != \"targeted_weapon_parts\":\n",
    "        #     colors.reverse()\n",
    "        \n",
    "        for index, value in enumerate(sorted(values, reverse=True)):\n",
    "\n",
    "            if column == \"targeted_weapon_parts\":\n",
    "                converted_value = int(value / WEAPON_PARTS_TO_OVERBOOST - 1)\n",
    "            \n",
    "            value_prob = gs.return_value_probability(column=column, value=value)\n",
    "            \n",
    "            plot.ax.hlines(\n",
    "                y=value_prob,\n",
    "                linestyles=\"dashed\",\n",
    "                linewidth=2,\n",
    "                xmin=0,\n",
    "                xmax=x_max,\n",
    "                color=colors[index],\n",
    "                alpha=0.75,\n",
    "                label=f\"{value_prob}% ({value:,} {legend_label})\" if column != \"targeted_weapon_parts\" else f\"{value_prob}% ({legend_label} {converted_value})\",\n",
    "            )\n",
    "\n",
    "        plot.ax.legend(\n",
    "            title=\"Probability Lines\", \n",
    "            prop={\"weight\": \"semibold\"}, \n",
    "            title_fontproperties={\"weight\": \"semibold\"}, \n",
    "            bbox_to_anchor=(1.60, 0.6)\n",
    "            )"
   ]
  },
  {
   "cell_type": "markdown",
   "id": "1ce1c6ec-a547-49fb-aa0a-1c66574f8688",
   "metadata": {},
   "source": [
    "# Crystals for OB6 of Zack's weapon"
   ]
  },
  {
   "cell_type": "code",
   "execution_count": null,
   "id": "022337d6-d086-4885-bd24-1736f90d6c2b",
   "metadata": {},
   "outputs": [],
   "source": [
    "ob6 = ob_analysis_wrapper(6)\n",
    "\n",
    "ob6.run_sims(n_jobs=-1)"
   ]
  },
  {
   "cell_type": "code",
   "execution_count": null,
   "id": "570a296e-ac9a-477f-90ff-dd9c062ca521",
   "metadata": {},
   "outputs": [],
   "source": [
    "OUTCOME = \"num_crystals_spent\"\n",
    "PROBS = [25, 50, 75, 80, 90, 95]\n",
    "GS = ob6\n",
    "\n",
    "viz_wrapper(gs=GS, column=OUTCOME, probs=PROBS)"
   ]
  },
  {
   "cell_type": "markdown",
   "id": "1ecef837-b3d9-4a79-b0a1-2ed626dce564",
   "metadata": {},
   "source": [
    "# Crystals for OB1 of Zack's weapon"
   ]
  },
  {
   "cell_type": "code",
   "execution_count": null,
   "id": "5e6df181-99fe-4783-ba90-4475ff4d269e",
   "metadata": {},
   "outputs": [],
   "source": [
    "ob1 = ob_analysis_wrapper(1)\n",
    "\n",
    "ob1.run_sims(n_jobs=-1)"
   ]
  },
  {
   "cell_type": "code",
   "execution_count": null,
   "id": "f7d005d9-b7e2-487d-891a-d48e19ea0f87",
   "metadata": {},
   "outputs": [],
   "source": [
    "OUTCOME = \"num_crystals_spent\"\n",
    "PROBS = [25, 50, 75, 80, 90, 95]\n",
    "GS = ob1\n",
    "\n",
    "viz_wrapper(gs=GS, column=OUTCOME, probs=PROBS)"
   ]
  }
 ],
 "metadata": {
  "kernelspec": {
   "display_name": "Python 3 (ipykernel)",
   "language": "python",
   "name": "python3"
  },
  "language_info": {
   "codemirror_mode": {
    "name": "ipython",
    "version": 3
   },
   "file_extension": ".py",
   "mimetype": "text/x-python",
   "name": "python",
   "nbconvert_exporter": "python",
   "pygments_lexer": "ipython3",
   "version": "3.10.12"
  }
 },
 "nbformat": 4,
 "nbformat_minor": 5
}
