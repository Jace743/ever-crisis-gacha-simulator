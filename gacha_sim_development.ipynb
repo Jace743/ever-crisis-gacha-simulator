{
 "cells": [
  {
   "cell_type": "code",
   "execution_count": 1,
   "id": "96787d20-6f19-44b6-8c33-146f03b5dbd4",
   "metadata": {},
   "outputs": [],
   "source": [
    "import numpy as np"
   ]
  },
  {
   "cell_type": "markdown",
   "id": "6f0702fa-e70f-48e8-a1f6-4fc5916b4189",
   "metadata": {},
   "source": [
    "## User Story (requirements)\n",
    "\n",
    "1. I can retrieve a range of probabilities of my desired result, based on a number of blue crystals provided as input\n",
    "    - Desired result is operationalized as a number of weapons copies (parts) drawn for a specific weapon.\n",
    "    - Question answered: If I spend this amount of crystals, how likely am I to reach Overboost X on this weapon?\n",
    "2. I can retrieve the estimated number of crystals required for my desired result, based on an OB level provided as input.\n",
    "    - Basically, the percentage of instances in which a certain OB level was achieved by X crystals\n",
    "    - Question answered: \"If I want this weapon at Overboost X, how many crystals will I need to spend?\n"
   ]
  },
  {
   "cell_type": "markdown",
   "id": "ad7b7628-6c14-4eb5-896b-03465584259f",
   "metadata": {},
   "source": [
    "## Necessary information for each use case\n",
    "\n",
    "1. Probability ranges for desired OB level based on number of crystals\n",
    "   - Inputs:\n",
    "       - Desired Overboost level\n",
    "       - Number of crystals available to spend\n",
    "       - Number of featured weapons on banner\n",
    "       - Whether the desired weapon is featured, wishlisted, or neither\n",
    "       - Stamp Card 1 info (note -- in most draws, you only get one guaranteed featured per banner)\n",
    "           - Number of guaranteed featured weapons (and stamp number(s))\n",
    "           - Number of guaranteed 5* (and stamp number(s))\n",
    "           - Number of guaranteed 4* (and stamp number(s))\n",
    "       - Stamp Card 2 info\n",
    "           - Number of guaranteed featured weapons (and stamp number(s))\n",
    "           - Number of guaranteed 5* (and stamp number(s))\n",
    "           - Number of guaranteed 4* (and stamp number(s))\n",
    "       - Stamp Card 3 info\n",
    "           - Number of guaranteed featured weapons (and stamp number(s))\n",
    "           - Number of guaranteed 5* (and stamp number(s))\n",
    "           - Number of guaranteed 4* (and stamp number(s))\n",
    "       - Stamp Card EX info\n",
    "           - Can just assume guaranteed 4* at stamp 6 and guaranteed 5* at stamp \n",
    "2. Number of crystals to reach specific probabilities for desired OB level\n",
    "   - Desired Overboost level\n",
    "   - Number of featured weapons on banner\n",
    "   - Whether the desired weapon is featured, wishlisted, or neither\n",
    "   - Same stamp card info as above"
   ]
  },
  {
   "cell_type": "markdown",
   "id": "6c783df8-2c4f-45a3-b8cf-14bfc0c80179",
   "metadata": {},
   "source": [
    "## Misc Notes (interesting findings while reviewing odds)\n",
    "\n",
    "These notes are based on crossover event Draw Details. Info may differ for regular banners.\n",
    "\n",
    "- Wishlisting only affects the probability of pulling weapons at 5* rarity, NOT 4* or 3*.\n",
    "- Featured weapon percentage across rarity does NOT scale linearly (featured weapons account for an inconsistent percentage of probability at each rarity level: 1/7.5 = 0.133r, 10/22.5 = 0.4r, 20/70 = 0.28571429).\n",
    "- Probabilities for featured weapons if num featured weapons == 1:\n",
    "    - 5*: 1%\n",
    "    - 4*: 10%\n",
    "    - 3*: 20%\n",
    "- Probabilities for wishlisted weapons if num featured weapons == 1:\n",
    "    - 5*: 1%\n",
    "    - 4*: 0.10869% (this is AFTER rounding)\n",
    "    - 3*: 0.43478% (this is AFTER rounding)\n",
    "- 115 non-featured weapons in first crossover banner: (22.5 {total 4* prob} - 10 {subtract out featured prob}) / 0.10869 {individual non-featured 4* prob} = 115 (plus an extremely small decimal amount)\n",
    "- Stamp Probabilities:\n",
    "    - 1: 0.45\n",
    "    - 2: 0.35\n",
    "    - 3: 0.1592\n",
    "    - 4: 0.0202\n",
    "    - 5: 0.015\n",
    "    - 6: 0.0055\n",
    "    - 12: 0.0001"
   ]
  },
  {
   "cell_type": "markdown",
   "id": "af16fb41-31bb-47f7-8603-61c6199e748a",
   "metadata": {},
   "source": [
    "## Assumptions (unorganized for now; tests may be required)\n",
    "\n",
    "- Probability of all 5-stars in any pull should add up to 7.5%\n",
    "- Probability of all 4-stars in any pull should add up to 22.5%\n",
    "- Probability of all 3-stars in any pull should add up to 70%\n",
    "- Number of pulls should never exceed max amount for number of crystals provided.\n",
    "- Stamp value should be between 1 and 12\n",
    "- Total probability is between 99 and 101 before re-calculating (this will be to adjust for the fact that they only provide rounded percentages to fit the values on screens)\n",
    "\n",
    "- NEED TO REVIEW ALL PROBABILITIES WHEN NUM FEATURED WEAPONS == 2: CANNOT BUILD FOR THIS YET!!!"
   ]
  },
  {
   "cell_type": "markdown",
   "id": "a31f7582-f1af-4b28-8059-b9b2fb74e011",
   "metadata": {},
   "source": [
    "## How I'll implement certain features\n",
    "\n",
    "### Need a `standard_banner_probabilities.py` module\n",
    "- Should hold standard probabilities that I can source while writing code\n",
    "- Examples (not exhaustive)\n",
    "    - Overall 3*, 4*, and 5* probabilities\n",
    "    - 3*, 4*, and 5* probabilities for featured weapons if num_featured == 1\n",
    "    - Same as preceding bullet point, but for when num_featured == 2\n",
    "    - 5* probabilities for wishlisted when num_featured == 1 or 2\n",
    "- Function to calculate number of weapons in banner (undecided if this should go here or not)\n",
    "    - Divide 1.5% by probability of non-featured, non-wishlisted 5*, and add num_featured + 5 (5 weapons are always wishlisted)\n",
    "    - So, inputs are 1) num_featured_weapons and 2) non_featured_non_wishlisted_five_star_probability (should shorten this name)\n",
    "\n",
    "### How to model a regular draw (a 1-draw, not a 10-draw)\n",
    "- Parameter List\n",
    "  - `tgt_wpn_five_star_rate`\n",
    "  - `tgt_wpn_four_star_rate`\n",
    "  - `tgt_wpn_three_star_rate`\n",
    "\n",
    "- Use `np.randon.randint`, with range 1 to 1000 (inclusive).\n",
    "- First, need to determine if it's a 3*, 4*, or 5*. This will make modeling guaranteed 4* and guaranteed 5* easier down the line.\n",
    "  - If between 1 and 75, then 5*\n",
    "  - If between 76 and 300, then 4*\n",
    "  - Else, 3*\n",
    "- Next, need to determine whether we get the desired weapon within a specific rarity level. I will model each determination within a rarity level as a separate roll.\n",
    "  - 5* (its own function)\n",
    "    - `np.random.randint` with range 1 to 75 (inclusive)\n",
    "    - If between 1 and {`tgt_wpn_five_star_rate`*10}, then add 200 wpn parts\n",
    "    - Else, no wpn parts added.\n",
    "  - 4* (its own function)\n",
    "    - `np.random.randint` with range 1 to 225 (inclusive)\n",
    "    - If between 1 and {`tgt_wpn_four_star_rate`*10}, then add 10 wpn parts\n",
    "    - Else, no wpn parts added.\n",
    "  - 3* (its own function)\n",
    "    - `np.random.randint` with range 1 to 700 (inclusive)\n",
    "    - If between 1 and {`tgt_wpn_three_star_rate`*10}, then add 1 wpn part\n",
    "    - Else, no wpn parts added.\n",
    "\n",
    "### Handling for guaranteed feature weapon in 10-draw (this is just one draw of the 10)\n",
    "\n",
    "- Just return 200 wpn_parts\n",
    "\n",
    "### Handling for guaranteed 5-star in 10-draw (this is just one draw of the 10)\n",
    "\n",
    "- Use the 5* function defined above\n",
    "\n",
    "### Handling for guaranteed 4-star in 10-draw (this is just one draw of the 10)\n",
    "\n",
    "- `np.random.randint` with range 1 to 1000 (inclusive)\n",
    "- If between 1 and 75, use 5* function defined above\n",
    "- Else, use 4* function described above \n",
    "\n",
    "### Handling for guaranteed not_desired_weapon in 10-draw (i.e., a different banner weapon is featured). \n",
    "\n",
    "- Just return 0 wpn_parts\n",
    "\n",
    "### How to model a 10-draw\n",
    "- Parameter List\n",
    "  - `stamp_value_this_draw` (randomly determined number of stamps to gain from a 10-draw)\n",
    "  - `current_stamp_count` (number of stamps earned for current stamp card; should start at 0 for a new stamp card). \n",
    "  - `new_stamp_count` (Number of stamps after adding `stamp_value_this_draw` to `current_stamp_count`\n",
    "  - `stamp_cards` (ordered list of individual stamp cards. Each stamp card is a dictionary, where keys are stamp card positions (integers) and values are draw types, e.g., `guaranteed_feature_five_star_draw`, `guaranteed_not_desired_draw`, etc.)\n",
    "  - `current_stamp_card` (integer value indicating the current stamp card, initialized at 0. Used to pull specific stamp cards from `stamp_cards`. Also used to indicate when the program should transition to repeating the EX card -- once `current_stamp_card` > `(len(stamp_cards.keys() - 1))`, `current_stamp_card` should always point to the EX card.)\n",
    "  - `stamp_cards[current_stamp_card]` (dictionary where the keys are integers that are looped through whenever we generate a stamp amount, and the values are a flag indicating the rule for that special square, e.g., guaranteed feature weapon, guaranteed 5-star, etc.)\n",
    "  - `special_rules_this_ten_pull` (list containing all special flags/rules for this 10-draw)\n",
    "\n",
    "- Generate a `stamp_value_this_draw` between 1 and 10,000 (inclusive) via `np.random.randint`\n",
    "  - 1:  If between 1 and 4500\n",
    "  - 2:  If between 4501 and 8000\n",
    "  - 3:  If between 8001 and 9592\n",
    "  - 4:  If between 9593 and 9794\n",
    "  - 5:  If between 9795 and 9944\n",
    "  - 6:  If between 9945 and 9999\n",
    "  - 12:  If == 10000\n",
    "  - `new_stamp_count` = `current_stamp_count` + `stamp_value_this_draw`\n",
    "- Loop through `stamp_cards[current_stamp_card]` to determine if special handling is needed for this 10-draw (based on new stamp value)\n",
    "  - If `stamp_cards[current_stamp_card]`.key > `current_stamp_count` and `stamp_cards[current_stamp_card]`.key >= `new_stamp_count`, then `special_rules_this_ten_pull.append(stamp_cards[current_stamp_card].value)`\n",
    "  - AFTER PREVIOUS STAMP OPERATIONS HAVE BEEN COMPLETED...\n",
    "    - If `new_stamp_count` > 12:\n",
    "      - then set `current_stamp_count` to 0\n",
    "      - set `new_stamp_count` to `new_stamp_count - 12` (i.e., substract 12 to bring value within range of new card)\n",
    "      - current_stamp_card += 1\n",
    "      - loop through `stamp_cards[current_stamp_card]` for the new card to see if there are any values <= `new_stamp_count` that need to be acted on in the 10-draw. \n",
    "   \n",
    "- Determining anatomy of the 10-draw\n",
    "  - `for special_draw in special_rules_this_ten_pull:`\n",
    "  - ... do the special_draw, which should return a number of wpn_parts\n",
    "  - Once we've looped through all of the special draws...\n",
    "  - `for draw in np.arange(0, (10 - len(special_rules_this_ten_pull))):`\n",
    "  - Do this number of standard draws\n",
    "  - Append total wpn_parts to some running total\n",
    "\n",
    "### How to model stamp cards? (users will need to configure this to some extent)\n",
    "\n",
    "- A stamp card will be a list of dictionaries. Each dictionary will reflect a rule for a specific position in the stamp card via two key-value pairs: 1) positiion, and 2) flag/rule. For example, `{'position': 6, 'rule': 'guaranteed_feature_five_star_draw`}. \n",
    "- Rules are one of the following (use enum for this?)\n",
    "  - guaranteed_feature_five_star_draw\n",
    "  - guaranteed_five_star_draw\n",
    "  - guaranteed_four_star_draw\n",
    "  - guaranteed_not_desired_draw (i.e., guaranteed 5-star of the other featured weapon that user isn't simming)\n",
    "- Point of entry for now can just be a YAML file, but if I decide to make this public, I will make it a set of dropdown options that will build an input dictionary.\n",
    "- The program should progress through all available dictionaries, and once it's gone through any specially-configured ones, it should go to the standard EX stamp card.\n",
    "- We should also be able to to configure a different EX card if we want.\n",
    "- The program will parse the dictionaries (stamp cards) in the order in which they're defined in the YAML. "
   ]
  },
  {
   "cell_type": "code",
   "execution_count": 5,
   "id": "e67d1596-6e6c-44db-b08c-b667dfd6ec1a",
   "metadata": {},
   "outputs": [],
   "source": [
    "adjusted_feature_four_star_rate = 0.925*0.100/0.225"
   ]
  },
  {
   "cell_type": "code",
   "execution_count": 6,
   "id": "bfab8b78-dcd3-4964-a981-b083e9f2eaca",
   "metadata": {},
   "outputs": [
    {
     "data": {
      "text/plain": [
       "0.41111111111111115"
      ]
     },
     "execution_count": 6,
     "metadata": {},
     "output_type": "execute_result"
    }
   ],
   "source": [
    "adjusted_feature_four_star_rate"
   ]
  },
  {
   "cell_type": "code",
   "execution_count": 7,
   "id": "ed16d90e-db36-450b-8890-e96473b0e00e",
   "metadata": {},
   "outputs": [],
   "source": [
    "from decimal import Decimal"
   ]
  },
  {
   "cell_type": "code",
   "execution_count": 8,
   "id": "51252ccd-736b-40c3-8b94-c160ea91577e",
   "metadata": {},
   "outputs": [],
   "source": [
    "adjusted_four_star_rate = Decimal(0.925)*Decimal(0.100)/Decimal(0.225)"
   ]
  },
  {
   "cell_type": "code",
   "execution_count": 9,
   "id": "e59f3327-5163-46c0-8049-54ba9d58f6b4",
   "metadata": {},
   "outputs": [
    {
     "data": {
      "text/plain": [
       "Decimal('0.4111111111111111435268821387')"
      ]
     },
     "execution_count": 9,
     "metadata": {},
     "output_type": "execute_result"
    }
   ],
   "source": [
    "adjusted_four_star_rate"
   ]
  },
  {
   "cell_type": "code",
   "execution_count": 10,
   "id": "6c1b8f04-7e85-4117-8191-358bdf72c6b3",
   "metadata": {},
   "outputs": [
    {
     "data": {
      "text/plain": [
       "Decimal('1.411111111111111143526882139')"
      ]
     },
     "execution_count": 10,
     "metadata": {},
     "output_type": "execute_result"
    }
   ],
   "source": [
    "1+adjusted_four_star_rate"
   ]
  },
  {
   "cell_type": "code",
   "execution_count": 12,
   "id": "c65b352f-0b41-4a6a-915c-8de160df3fec",
   "metadata": {},
   "outputs": [
    {
     "data": {
      "text/plain": [
       "False"
      ]
     },
     "execution_count": 12,
     "metadata": {},
     "output_type": "execute_result"
    }
   ],
   "source": [
    "0.42 < adjusted_four_star_rate"
   ]
  },
  {
   "cell_type": "code",
   "execution_count": 13,
   "id": "67ef3cab-7b33-438d-acb9-f4d8bde0ca3c",
   "metadata": {},
   "outputs": [],
   "source": [
    "test = Decimal(0.925*0.100/0.225)"
   ]
  },
  {
   "cell_type": "code",
   "execution_count": 14,
   "id": "16832b05-01f4-41b6-9617-6bf844e4db1d",
   "metadata": {},
   "outputs": [
    {
     "data": {
      "text/plain": [
       "Decimal('0.411111111111111149352126403755391947925090789794921875')"
      ]
     },
     "execution_count": 14,
     "metadata": {},
     "output_type": "execute_result"
    }
   ],
   "source": [
    "test"
   ]
  },
  {
   "cell_type": "code",
   "execution_count": 17,
   "id": "9e47f794-4588-471a-8398-99021987d55a",
   "metadata": {},
   "outputs": [
    {
     "data": {
      "text/plain": [
       "Decimal('118.0173092053501265942757101')"
      ]
     },
     "execution_count": 17,
     "metadata": {},
     "output_type": "execute_result"
    }
   ],
   "source": [
    "Decimal(7.5) / Decimal(0.06355)"
   ]
  },
  {
   "cell_type": "code",
   "execution_count": 18,
   "id": "a546ad9e-eb48-44f2-951d-fded8a87f489",
   "metadata": {},
   "outputs": [
    {
     "data": {
      "text/plain": [
       "Decimal('110.0513573000733695526135524')"
      ]
     },
     "execution_count": 18,
     "metadata": {},
     "output_type": "execute_result"
    }
   ],
   "source": [
    "Decimal(1.5) / Decimal(0.01363)"
   ]
  },
  {
   "cell_type": "code",
   "execution_count": 19,
   "id": "246d0827-4e2a-4529-bc47-2df68617f938",
   "metadata": {},
   "outputs": [
    {
     "data": {
      "text/plain": [
       "116"
      ]
     },
     "execution_count": 19,
     "metadata": {},
     "output_type": "execute_result"
    }
   ],
   "source": [
    "12+10+11+11+10+10+10+10+11+11+10"
   ]
  },
  {
   "cell_type": "markdown",
   "id": "41804e37-7f79-42e8-b0d8-b0d6746cbe30",
   "metadata": {},
   "source": [
    "## Disorganized Notes from planning changes to np.random usage (not converted to markdown format, so currently very messy)\n",
    "\n",
    "Current Implementation:\r\n",
    "--Determine rarity (one roll)\r\n",
    "--Roll rarity (one additional roll)\r\n",
    "--Four functions total\r\n",
    "\r\n",
    "Alternative Implementation:\r\n",
    "--Roll 1 to 1,000, and roll carries forward once rarity is determined\r\n",
    "    --If between [0, 0.075), then 5* (log a 5*)\r\n",
    "        --If between [0, 0.01), then featured 5*, else no targeted wpn_parts \r\n",
    "        --If between [0, 0.008), then wishlisted 5*, else no targeted wpn_parts\r\n",
    "    --If between [0.075, 0.300), then 4* (log a 4*)\r\n",
    "        --If between [0.075, 0.175), then featured 4*, else no targeted wpn_parts\r\n",
    "        --If between [0.075, \r\n",
    "        --For guaranteed 4*...\r\n",
    "            --If between [0.075, (0.075 + Decimal(0.925) * Decimal(0.100) / Decimal(0.225))), then featured 4* else no targeted wpn_parts\r\n",
    "    --If between [0.300, 1), then 3* (log a 3*)\r\n",
    "        --If between [0.300, \r\n",
    "--Concern: Guaranteed 4* rolls... will the numbers alight with the probability?\r\n",
    "    --Shift from 1 to 225 to 1 to 925. 100/225 <> 411.1r/925\r\n",
    "    --I would need to shift from using randint to np.random.Generator.random(). However, this is doable."
   ]
  },
  {
   "cell_type": "code",
   "execution_count": null,
   "id": "778d743f-b574-44b9-b14f-b8747dea75e0",
   "metadata": {},
   "outputs": [],
   "source": []
  }
 ],
 "metadata": {
  "kernelspec": {
   "display_name": "Python 3 (ipykernel)",
   "language": "python",
   "name": "python3"
  },
  "language_info": {
   "codemirror_mode": {
    "name": "ipython",
    "version": 3
   },
   "file_extension": ".py",
   "mimetype": "text/x-python",
   "name": "python",
   "nbconvert_exporter": "python",
   "pygments_lexer": "ipython3",
   "version": "3.11.4"
  }
 },
 "nbformat": 4,
 "nbformat_minor": 5
}
